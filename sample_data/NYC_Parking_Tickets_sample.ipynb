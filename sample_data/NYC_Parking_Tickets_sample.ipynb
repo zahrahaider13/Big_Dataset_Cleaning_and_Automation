{
 "cells": [
  {
   "cell_type": "markdown",
   "id": "5065f53f",
   "metadata": {},
   "source": [
    "# **NYC Parking Violations 2014: Data Cleaning & Analysis**  \n",
    "**Author:** Zahra Haider   \n",
    "\n",
    "---\n",
    "\n",
    "## 🚦 **Introduction: The Parking Data Challenge**  \n",
    "New York City's parking violation data holds valuable insights - but only if we can tame its complexity. This sample project demonstrates my approach to cleaning and analyzing a 10,000-row subset from the 2014 dataset (originally 9.1M+ records).  \n",
    "\n",
    "🔹 **Start**: Raw data filled with inconsistencies, missing values, and formatting issues  \n",
    "🔹 **Conflict**: Messy data makes analysis impossible and leads to incorrect conclusions  \n",
    "🔹 **Solution**: A systematic cleaning pipeline that transforms chaos into clarity  \n",
    "\n",
    "---\n",
    "\n",
    "## 🛠️ **Step 1: Load the Dataset**  \n",
    "**Goal**: Import a manageable sample for analysis \n",
    "\n",
    "**Key Decisions:**\n",
    "\n",
    "- Limited to 10,000 rows for demonstration purposes\n",
    "\n",
    "- low_memory=False prevents mixed-type warnings\n",
    "\n",
    "- Verified successful load with row count\n",
    "\n",
    "---"
   ]
  },
  {
   "cell_type": "code",
   "execution_count": 5,
   "id": "12cb39dd",
   "metadata": {},
   "outputs": [
    {
     "name": "stdout",
     "output_type": "stream",
     "text": [
      "Loaded 10000 rows.\n"
     ]
    }
   ],
   "source": [
    "import pandas as pd\n",
    "import numpy as np\n",
    "\n",
    "# Load 10k rows from 2014 file\n",
    "file_2014 = \"raw_data/Parking_2014.csv\"\n",
    "df = pd.read_csv(file_2014, nrows=10000, low_memory=False)  # low_memory=False avoids mixed-type warnings\n",
    "print(f\"Loaded {len(df)} rows.\")"
   ]
  },
  {
   "cell_type": "markdown",
   "id": "c5db2024",
   "metadata": {},
   "source": [
    "## 🔍 **Step 2: Initial Data Inspection**\n",
    "\n",
    "**Goal:** Understand the battlefield before cleaning\n",
    "\n",
    "**Key Findings:**\n",
    "\n",
    "- 51 columns with varying data quality\n",
    "\n",
    "- Critical columns like plate_id had missing values\n",
    "\n",
    "- Time fields used inconsistent formats (e.g., \"0752A\" = 7:52 AM)\n",
    "\n",
    "- 16 columns with >70% missing data\n",
    "\n",
    "---"
   ]
  },
  {
   "cell_type": "code",
   "execution_count": 6,
   "id": "3837a01c",
   "metadata": {},
   "outputs": [
    {
     "name": "stdout",
     "output_type": "stream",
     "text": [
      "=== Data Shape ===\n",
      "(10000, 51)\n",
      "\n",
      "=== Column Names ===\n",
      "['Summons Number', 'Plate ID', 'Registration State', 'Plate Type', 'Issue Date', 'Violation Code', 'Vehicle Body Type', 'Vehicle Make', 'Issuing Agency', 'Street Code1', 'Street Code2', 'Street Code3', 'Vehicle Expiration Date', 'Violation Location', 'Violation Precinct', 'Issuer Precinct', 'Issuer Code', 'Issuer Command', 'Issuer Squad', 'Violation Time', 'Time First Observed', 'Violation County', 'Violation In Front Of Or Opposite', 'House Number', 'Street Name', 'Intersecting Street', 'Date First Observed', 'Law Section', 'Sub Division', 'Violation Legal Code', 'Days Parking In Effect    ', 'From Hours In Effect', 'To Hours In Effect', 'Vehicle Color', 'Unregistered Vehicle?', 'Vehicle Year', 'Meter Number', 'Feet From Curb', 'Violation Post Code', 'Violation Description', 'No Standing or Stopping Violation', 'Hydrant Violation', 'Double Parking Violation', 'Latitude', 'Longitude', 'Community Board', 'Community Council ', 'Census Tract', 'BIN', 'BBL', 'NTA']\n",
      "\n",
      "=== Sample Rows ===\n"
     ]
    },
    {
     "data": {
      "application/vnd.microsoft.datawrangler.viewer.v0+json": {
       "columns": [
        {
         "name": "index",
         "rawType": "int64",
         "type": "integer"
        },
        {
         "name": "Summons Number",
         "rawType": "int64",
         "type": "integer"
        },
        {
         "name": "Plate ID",
         "rawType": "object",
         "type": "string"
        },
        {
         "name": "Registration State",
         "rawType": "object",
         "type": "string"
        },
        {
         "name": "Plate Type",
         "rawType": "object",
         "type": "string"
        },
        {
         "name": "Issue Date",
         "rawType": "object",
         "type": "string"
        },
        {
         "name": "Violation Code",
         "rawType": "int64",
         "type": "integer"
        },
        {
         "name": "Vehicle Body Type",
         "rawType": "object",
         "type": "string"
        },
        {
         "name": "Vehicle Make",
         "rawType": "object",
         "type": "string"
        },
        {
         "name": "Issuing Agency",
         "rawType": "object",
         "type": "string"
        },
        {
         "name": "Street Code1",
         "rawType": "int64",
         "type": "integer"
        },
        {
         "name": "Street Code2",
         "rawType": "int64",
         "type": "integer"
        },
        {
         "name": "Street Code3",
         "rawType": "int64",
         "type": "integer"
        },
        {
         "name": "Vehicle Expiration Date",
         "rawType": "int64",
         "type": "integer"
        },
        {
         "name": "Violation Location",
         "rawType": "float64",
         "type": "float"
        },
        {
         "name": "Violation Precinct",
         "rawType": "int64",
         "type": "integer"
        },
        {
         "name": "Issuer Precinct",
         "rawType": "int64",
         "type": "integer"
        },
        {
         "name": "Issuer Code",
         "rawType": "int64",
         "type": "integer"
        },
        {
         "name": "Issuer Command",
         "rawType": "object",
         "type": "string"
        },
        {
         "name": "Issuer Squad",
         "rawType": "int64",
         "type": "integer"
        },
        {
         "name": "Violation Time",
         "rawType": "object",
         "type": "string"
        },
        {
         "name": "Time First Observed",
         "rawType": "object",
         "type": "unknown"
        },
        {
         "name": "Violation County",
         "rawType": "object",
         "type": "unknown"
        },
        {
         "name": "Violation In Front Of Or Opposite",
         "rawType": "object",
         "type": "string"
        },
        {
         "name": "House Number",
         "rawType": "object",
         "type": "string"
        },
        {
         "name": "Street Name",
         "rawType": "object",
         "type": "string"
        },
        {
         "name": "Intersecting Street",
         "rawType": "object",
         "type": "unknown"
        },
        {
         "name": "Date First Observed",
         "rawType": "int64",
         "type": "integer"
        },
        {
         "name": "Law Section",
         "rawType": "int64",
         "type": "integer"
        },
        {
         "name": "Sub Division",
         "rawType": "object",
         "type": "string"
        },
        {
         "name": "Violation Legal Code",
         "rawType": "float64",
         "type": "float"
        },
        {
         "name": "Days Parking In Effect    ",
         "rawType": "object",
         "type": "string"
        },
        {
         "name": "From Hours In Effect",
         "rawType": "object",
         "type": "string"
        },
        {
         "name": "To Hours In Effect",
         "rawType": "object",
         "type": "string"
        },
        {
         "name": "Vehicle Color",
         "rawType": "object",
         "type": "unknown"
        },
        {
         "name": "Unregistered Vehicle?",
         "rawType": "int64",
         "type": "integer"
        },
        {
         "name": "Vehicle Year",
         "rawType": "int64",
         "type": "integer"
        },
        {
         "name": "Meter Number",
         "rawType": "object",
         "type": "string"
        },
        {
         "name": "Feet From Curb",
         "rawType": "int64",
         "type": "integer"
        },
        {
         "name": "Violation Post Code",
         "rawType": "float64",
         "type": "float"
        },
        {
         "name": "Violation Description",
         "rawType": "float64",
         "type": "float"
        },
        {
         "name": "No Standing or Stopping Violation",
         "rawType": "float64",
         "type": "float"
        },
        {
         "name": "Hydrant Violation",
         "rawType": "float64",
         "type": "float"
        },
        {
         "name": "Double Parking Violation",
         "rawType": "float64",
         "type": "float"
        },
        {
         "name": "Latitude",
         "rawType": "float64",
         "type": "float"
        },
        {
         "name": "Longitude",
         "rawType": "float64",
         "type": "float"
        },
        {
         "name": "Community Board",
         "rawType": "float64",
         "type": "float"
        },
        {
         "name": "Community Council ",
         "rawType": "float64",
         "type": "float"
        },
        {
         "name": "Census Tract",
         "rawType": "float64",
         "type": "float"
        },
        {
         "name": "BIN",
         "rawType": "float64",
         "type": "float"
        },
        {
         "name": "BBL",
         "rawType": "float64",
         "type": "float"
        },
        {
         "name": "NTA",
         "rawType": "float64",
         "type": "float"
        }
       ],
       "conversionMethod": "pd.DataFrame",
       "ref": "eaaed0b6-b056-48cf-b31a-18f988d1954a",
       "rows": [
        [
         "0",
         "1283294138",
         "GBB9093",
         "NY",
         "PAS",
         "08/04/2013",
         "46",
         "SUBN",
         "AUDI",
         "P",
         "37250",
         "13610",
         "21190",
         "20140831",
         "33.0",
         "33",
         "33",
         "921043",
         "0033",
         "0",
         "0752A",
         null,
         null,
         "F",
         "712",
         "W 175 ST",
         null,
         "0",
         "408",
         "F1",
         null,
         "BBBBBBB",
         "ALL",
         "ALL",
         "GY",
         "0",
         "2013",
         "-",
         "0",
         null,
         null,
         null,
         null,
         null,
         null,
         null,
         null,
         null,
         null,
         null,
         null,
         null
        ],
        [
         "1",
         "1283294151",
         "62416MB",
         "NY",
         "COM",
         "08/04/2013",
         "46",
         "VAN",
         "FORD",
         "P",
         "37290",
         "40404",
         "40404",
         "20140430",
         "33.0",
         "33",
         "33",
         "921043",
         "0033",
         "0",
         "1240P",
         null,
         "NY",
         "O",
         "201",
         "W 177 ST",
         null,
         "0",
         "408",
         "C",
         null,
         "BBBBBBB",
         "ALL",
         "ALL",
         "WH",
         "0",
         "2012",
         "-",
         "0",
         null,
         null,
         null,
         null,
         null,
         null,
         null,
         null,
         null,
         null,
         null,
         null,
         null
        ],
        [
         "2",
         "1283294163",
         "78755JZ",
         "NY",
         "COM",
         "08/05/2013",
         "46",
         "P-U",
         "CHEVR",
         "P",
         "37030",
         "31190",
         "13610",
         "20140228",
         "33.0",
         "33",
         "33",
         "921043",
         "0033",
         "0",
         "1243P",
         null,
         "NY",
         "O",
         "520",
         "W 163 ST",
         null,
         "0",
         "408",
         "F7",
         null,
         "BBBBBBB",
         "ALL",
         "ALL",
         null,
         "0",
         "0",
         "-",
         "0",
         null,
         null,
         null,
         null,
         null,
         null,
         null,
         null,
         null,
         null,
         null,
         null,
         null
        ]
       ],
       "shape": {
        "columns": 51,
        "rows": 3
       }
      },
      "text/html": [
       "<div>\n",
       "<style scoped>\n",
       "    .dataframe tbody tr th:only-of-type {\n",
       "        vertical-align: middle;\n",
       "    }\n",
       "\n",
       "    .dataframe tbody tr th {\n",
       "        vertical-align: top;\n",
       "    }\n",
       "\n",
       "    .dataframe thead th {\n",
       "        text-align: right;\n",
       "    }\n",
       "</style>\n",
       "<table border=\"1\" class=\"dataframe\">\n",
       "  <thead>\n",
       "    <tr style=\"text-align: right;\">\n",
       "      <th></th>\n",
       "      <th>Summons Number</th>\n",
       "      <th>Plate ID</th>\n",
       "      <th>Registration State</th>\n",
       "      <th>Plate Type</th>\n",
       "      <th>Issue Date</th>\n",
       "      <th>Violation Code</th>\n",
       "      <th>Vehicle Body Type</th>\n",
       "      <th>Vehicle Make</th>\n",
       "      <th>Issuing Agency</th>\n",
       "      <th>Street Code1</th>\n",
       "      <th>...</th>\n",
       "      <th>Hydrant Violation</th>\n",
       "      <th>Double Parking Violation</th>\n",
       "      <th>Latitude</th>\n",
       "      <th>Longitude</th>\n",
       "      <th>Community Board</th>\n",
       "      <th>Community Council</th>\n",
       "      <th>Census Tract</th>\n",
       "      <th>BIN</th>\n",
       "      <th>BBL</th>\n",
       "      <th>NTA</th>\n",
       "    </tr>\n",
       "  </thead>\n",
       "  <tbody>\n",
       "    <tr>\n",
       "      <th>0</th>\n",
       "      <td>1283294138</td>\n",
       "      <td>GBB9093</td>\n",
       "      <td>NY</td>\n",
       "      <td>PAS</td>\n",
       "      <td>08/04/2013</td>\n",
       "      <td>46</td>\n",
       "      <td>SUBN</td>\n",
       "      <td>AUDI</td>\n",
       "      <td>P</td>\n",
       "      <td>37250</td>\n",
       "      <td>...</td>\n",
       "      <td>NaN</td>\n",
       "      <td>NaN</td>\n",
       "      <td>NaN</td>\n",
       "      <td>NaN</td>\n",
       "      <td>NaN</td>\n",
       "      <td>NaN</td>\n",
       "      <td>NaN</td>\n",
       "      <td>NaN</td>\n",
       "      <td>NaN</td>\n",
       "      <td>NaN</td>\n",
       "    </tr>\n",
       "    <tr>\n",
       "      <th>1</th>\n",
       "      <td>1283294151</td>\n",
       "      <td>62416MB</td>\n",
       "      <td>NY</td>\n",
       "      <td>COM</td>\n",
       "      <td>08/04/2013</td>\n",
       "      <td>46</td>\n",
       "      <td>VAN</td>\n",
       "      <td>FORD</td>\n",
       "      <td>P</td>\n",
       "      <td>37290</td>\n",
       "      <td>...</td>\n",
       "      <td>NaN</td>\n",
       "      <td>NaN</td>\n",
       "      <td>NaN</td>\n",
       "      <td>NaN</td>\n",
       "      <td>NaN</td>\n",
       "      <td>NaN</td>\n",
       "      <td>NaN</td>\n",
       "      <td>NaN</td>\n",
       "      <td>NaN</td>\n",
       "      <td>NaN</td>\n",
       "    </tr>\n",
       "    <tr>\n",
       "      <th>2</th>\n",
       "      <td>1283294163</td>\n",
       "      <td>78755JZ</td>\n",
       "      <td>NY</td>\n",
       "      <td>COM</td>\n",
       "      <td>08/05/2013</td>\n",
       "      <td>46</td>\n",
       "      <td>P-U</td>\n",
       "      <td>CHEVR</td>\n",
       "      <td>P</td>\n",
       "      <td>37030</td>\n",
       "      <td>...</td>\n",
       "      <td>NaN</td>\n",
       "      <td>NaN</td>\n",
       "      <td>NaN</td>\n",
       "      <td>NaN</td>\n",
       "      <td>NaN</td>\n",
       "      <td>NaN</td>\n",
       "      <td>NaN</td>\n",
       "      <td>NaN</td>\n",
       "      <td>NaN</td>\n",
       "      <td>NaN</td>\n",
       "    </tr>\n",
       "  </tbody>\n",
       "</table>\n",
       "<p>3 rows × 51 columns</p>\n",
       "</div>"
      ],
      "text/plain": [
       "   Summons Number Plate ID Registration State Plate Type  Issue Date  \\\n",
       "0      1283294138  GBB9093                 NY        PAS  08/04/2013   \n",
       "1      1283294151  62416MB                 NY        COM  08/04/2013   \n",
       "2      1283294163  78755JZ                 NY        COM  08/05/2013   \n",
       "\n",
       "   Violation Code Vehicle Body Type Vehicle Make Issuing Agency  Street Code1  \\\n",
       "0              46              SUBN         AUDI              P         37250   \n",
       "1              46               VAN         FORD              P         37290   \n",
       "2              46               P-U        CHEVR              P         37030   \n",
       "\n",
       "   ...  Hydrant Violation  Double Parking Violation  Latitude  Longitude  \\\n",
       "0  ...                NaN                       NaN       NaN        NaN   \n",
       "1  ...                NaN                       NaN       NaN        NaN   \n",
       "2  ...                NaN                       NaN       NaN        NaN   \n",
       "\n",
       "   Community Board  Community Council   Census Tract BIN  BBL NTA  \n",
       "0              NaN                 NaN           NaN NaN  NaN NaN  \n",
       "1              NaN                 NaN           NaN NaN  NaN NaN  \n",
       "2              NaN                 NaN           NaN NaN  NaN NaN  \n",
       "\n",
       "[3 rows x 51 columns]"
      ]
     },
     "metadata": {},
     "output_type": "display_data"
    },
    {
     "name": "stdout",
     "output_type": "stream",
     "text": [
      "\n",
      "=== Missing Values ===\n",
      "Summons Number                           0\n",
      "Plate ID                                 1\n",
      "Registration State                       0\n",
      "Plate Type                               0\n",
      "Issue Date                               0\n",
      "Violation Code                           0\n",
      "Vehicle Body Type                      263\n",
      "Vehicle Make                           692\n",
      "Issuing Agency                           0\n",
      "Street Code1                             0\n",
      "Street Code2                             0\n",
      "Street Code3                             0\n",
      "Vehicle Expiration Date                  0\n",
      "Violation Location                     102\n",
      "Violation Precinct                       0\n",
      "Issuer Precinct                          0\n",
      "Issuer Code                              0\n",
      "Issuer Command                           0\n",
      "Issuer Squad                             0\n",
      "Violation Time                           4\n",
      "Time First Observed                   9209\n",
      "Violation County                       398\n",
      "Violation In Front Of Or Opposite     1187\n",
      "House Number                          1735\n",
      "Street Name                             19\n",
      "Intersecting Street                   8549\n",
      "Date First Observed                      0\n",
      "Law Section                              0\n",
      "Sub Division                            13\n",
      "Violation Legal Code                  9996\n",
      "Days Parking In Effect                   0\n",
      "From Hours In Effect                     0\n",
      "To Hours In Effect                       0\n",
      "Vehicle Color                          212\n",
      "Unregistered Vehicle?                    0\n",
      "Vehicle Year                             0\n",
      "Meter Number                             4\n",
      "Feet From Curb                           0\n",
      "Violation Post Code                   9996\n",
      "Violation Description                10000\n",
      "No Standing or Stopping Violation    10000\n",
      "Hydrant Violation                    10000\n",
      "Double Parking Violation             10000\n",
      "Latitude                             10000\n",
      "Longitude                            10000\n",
      "Community Board                      10000\n",
      "Community Council                    10000\n",
      "Census Tract                         10000\n",
      "BIN                                  10000\n",
      "BBL                                  10000\n",
      "NTA                                  10000\n",
      "dtype: int64\n"
     ]
    }
   ],
   "source": [
    "# Quick overview\n",
    "print(\"=== Data Shape ===\")\n",
    "print(df.shape)  # (rows, columns)\n",
    "\n",
    "print(\"\\n=== Column Names ===\")\n",
    "print(df.columns.tolist())  # List all columns\n",
    "\n",
    "print(\"\\n=== Sample Rows ===\")\n",
    "display(df.head(3))  # Show first 3 rows\n",
    "\n",
    "print(\"\\n=== Missing Values ===\")\n",
    "print(df.isna().sum())  # Count missing values per column"
   ]
  },
  {
   "cell_type": "markdown",
   "id": "1a67c762",
   "metadata": {},
   "source": [
    "## **🧼 Step 3: The Cleaning Pipeline**\n",
    "\n",
    "### **🏷️ 1. Standardize Column Names**\n",
    "\n",
    "**Impact:**\n",
    "\n",
    "- \"Summons Number\" → \"summons_number\"\n",
    "\n",
    "- Consistent naming enables reliable column references\n",
    "\n",
    "---"
   ]
  },
  {
   "cell_type": "code",
   "execution_count": 7,
   "id": "3d44d56a",
   "metadata": {},
   "outputs": [
    {
     "name": "stdout",
     "output_type": "stream",
     "text": [
      "Renamed columns: ['summons_number', 'plate_id', 'registration_state', 'plate_type', 'issue_date', 'violation_code', 'vehicle_body_type', 'vehicle_make', 'issuing_agency', 'street_code1', 'street_code2', 'street_code3', 'vehicle_expiration_date', 'violation_location', 'violation_precinct', 'issuer_precinct', 'issuer_code', 'issuer_command', 'issuer_squad', 'violation_time', 'time_first_observed', 'violation_county', 'violation_in_front_of_or_opposite', 'house_number', 'street_name', 'intersecting_street', 'date_first_observed', 'law_section', 'sub_division', 'violation_legal_code', 'days_parking_in_effect', 'from_hours_in_effect', 'to_hours_in_effect', 'vehicle_color', 'unregistered_vehicle?', 'vehicle_year', 'meter_number', 'feet_from_curb', 'violation_post_code', 'violation_description', 'no_standing_or_stopping_violation', 'hydrant_violation', 'double_parking_violation', 'latitude', 'longitude', 'community_board', 'community_council', 'census_tract', 'bin', 'bbl', 'nta']\n"
     ]
    }
   ],
   "source": [
    "df.columns = df.columns.str.strip().str.lower().str.replace(' ', '_')\n",
    "print(\"Renamed columns:\", df.columns.tolist())"
   ]
  },
  {
   "cell_type": "markdown",
   "id": "5bcf5a8e",
   "metadata": {},
   "source": [
    "### **📅 2. Fix Dates & Times**\n",
    "\n",
    "***Problem:*** Mixed date formats and invalid times\n",
    "\n",
    "***Solution:***\n",
    "\n",
    "- Convert to datetime\n",
    "\n",
    "- Extract time components from \"0752A\" format\n",
    "\n",
    "**Added Features:**\n",
    "\n",
    "- ``issue_year``, ``issue_month`` extracted\n",
    "\n",
    "- Proper 24-hour ``violation_datetime`` created\n",
    "\n",
    "---"
   ]
  },
  {
   "cell_type": "code",
   "execution_count": 8,
   "id": "e2e6cfdd",
   "metadata": {},
   "outputs": [
    {
     "name": "stdout",
     "output_type": "stream",
     "text": [
      "\n",
      "Date cleaning done. Added year/month columns.\n"
     ]
    }
   ],
   "source": [
    "df['issue_date'] = pd.to_datetime(df['issue_date'], errors='coerce')  # 'coerce' invalid dates to NaT\n",
    "df['issue_year'] = df['issue_date'].dt.year\n",
    "df['issue_month'] = df['issue_date'].dt.month_name()\n",
    "print(\"\\nDate cleaning done. Added year/month columns.\")"
   ]
  },
  {
   "cell_type": "code",
   "execution_count": 9,
   "id": "3e276bc5",
   "metadata": {},
   "outputs": [
    {
     "name": "stderr",
     "output_type": "stream",
     "text": [
      "C:\\Users\\zahra\\AppData\\Local\\Temp\\ipykernel_17088\\1481751616.py:19: UserWarning: Could not infer format, so each element will be parsed individually, falling back to `dateutil`. To ensure parsing is consistent and as-expected, please specify a format.\n",
      "  df['violation_datetime'] = pd.to_datetime(\n"
     ]
    },
    {
     "name": "stdout",
     "output_type": "stream",
     "text": [
      "Successfully cleaned violation times:\n",
      "  violation_time  violation_hour  violation_minute  violation_datetime\n",
      "0          0752A             7.0              52.0 2013-08-04 07:52:00\n",
      "1          1240P             0.0              40.0 2013-08-04 00:40:00\n",
      "2          1243P             0.0              43.0 2013-08-05 00:43:00\n",
      "3          0232P            14.0              32.0 2013-08-05 14:32:00\n",
      "4          1239P             0.0              39.0 2013-08-08 00:39:00\n"
     ]
    }
   ],
   "source": [
    "# Ensure violation_time is string type\n",
    "df['violation_time'] = df['violation_time'].astype(str).str.strip()\n",
    "\n",
    "# Extract components - now returns a DataFrame with named columns\n",
    "time_parts = df['violation_time'].str.extract(r'(?P<hour>\\d{1,2})(?P<minute>\\d{2})(?P<period>[AP]?)')\n",
    "\n",
    "# Convert to numeric (keeping NaN where invalid)\n",
    "time_parts['hour'] = pd.to_numeric(time_parts['hour'], errors='coerce')\n",
    "time_parts['minute'] = pd.to_numeric(time_parts['minute'], errors='coerce')\n",
    "\n",
    "# Clean period (AM/PM) - default to AM if missing\n",
    "time_parts['period'] = time_parts['period'].str.upper().replace({'': 'A', None: 'A'})\n",
    "\n",
    "# Convert to 24-hour format\n",
    "time_parts.loc[time_parts['period'] == 'P', 'hour'] += 12\n",
    "time_parts['hour'] = time_parts['hour'].replace(24, 0)  # Handle midnight\n",
    "\n",
    "# Combine with issue_date to create datetime\n",
    "df['violation_datetime'] = pd.to_datetime(\n",
    "    df['issue_date'].dt.date.astype(str) + ' ' + \n",
    "    time_parts['hour'].astype(str) + ':' + \n",
    "    time_parts['minute'].astype(str),\n",
    "    errors='coerce'\n",
    ")\n",
    "\n",
    "# Optional: Add cleaned time components back to dataframe\n",
    "df['violation_hour'] = time_parts['hour']\n",
    "df['violation_minute'] = time_parts['minute']\n",
    "\n",
    "# Show results\n",
    "print(\"Successfully cleaned violation times:\")\n",
    "print(df[['violation_time', 'violation_hour', 'violation_minute', 'violation_datetime']].head())"
   ]
  },
  {
   "cell_type": "markdown",
   "id": "62957992",
   "metadata": {},
   "source": [
    "### **🗺️ 3. Clean Geographic Data**\n",
    "\n",
    "**Result:**\n",
    "\n",
    "- Invalid states (e.g., \"XX\") recoded as \"OTHER\"\n",
    "\n",
    "- Precinct numbers standardized\n",
    "\n",
    "---"
   ]
  },
  {
   "cell_type": "code",
   "execution_count": 10,
   "id": "5fe9dae8",
   "metadata": {},
   "outputs": [
    {
     "name": "stdout",
     "output_type": "stream",
     "text": [
      "\n",
      "States cleaned. Invalid values marked as 'OTHER'.\n"
     ]
    }
   ],
   "source": [
    "valid_states = ['AL','AK','AZ','AR','CA','CO','CT','DE','FL','GA','HI','ID','IL','IN','IA',\n",
    "                'KS','KY','LA','ME','MD','MA','MI','MN','MS','MO','MT','NE','NV','NH','NJ',\n",
    "                'NM','NY','NC','ND','OH','OK','OR','PA','RI','SC','SD','TN','TX','UT','VT',\n",
    "                'VA','WA','WV','WI','WY','DC','PR','VI']\n",
    "\n",
    "df['registration_state'] = df['registration_state'].str.upper().str.strip()\n",
    "df['registration_state'] = df['registration_state'].where(\n",
    "    df['registration_state'].isin(valid_states), 'OTHER'\n",
    ")\n",
    "print(\"\\nStates cleaned. Invalid values marked as 'OTHER'.\")"
   ]
  },
  {
   "cell_type": "markdown",
   "id": "3beb1950",
   "metadata": {},
   "source": [
    "### **🧹 4. Handle Missing Data**\n",
    "\n",
    "**Strategy:**\n",
    "\n",
    "- ***Drop:*** Columns with >70% missing values (16 removed)\n",
    "\n",
    "---"
   ]
  },
  {
   "cell_type": "code",
   "execution_count": 11,
   "id": "344000ab",
   "metadata": {},
   "outputs": [
    {
     "name": "stdout",
     "output_type": "stream",
     "text": [
      "Dropped columns with >70% missing: ['time_first_observed', 'intersecting_street', 'violation_legal_code', 'violation_post_code', 'violation_description', 'no_standing_or_stopping_violation', 'hydrant_violation', 'double_parking_violation', 'latitude', 'longitude', 'community_board', 'community_council', 'census_tract', 'bin', 'bbl', 'nta']\n"
     ]
    }
   ],
   "source": [
    "missing_pct = df.isna().mean()\n",
    "cols_to_drop = missing_pct[missing_pct > 0.7].index.tolist()\n",
    "df = df.drop(columns=cols_to_drop)\n",
    "print(f\"Dropped columns with >70% missing: {cols_to_drop}\")"
   ]
  },
  {
   "cell_type": "markdown",
   "id": "073d59ec",
   "metadata": {},
   "source": [
    "# Step 4: Save Cleaned Data"
   ]
  },
  {
   "cell_type": "code",
   "execution_count": 12,
   "id": "ccf847eb",
   "metadata": {},
   "outputs": [
    {
     "name": "stdout",
     "output_type": "stream",
     "text": [
      "\n",
      "Saved cleaned data to cleaned_2014_sample.csv\n"
     ]
    }
   ],
   "source": [
    "output_file = \"cleaned_2014_sample.csv\"\n",
    "df.to_csv(output_file, index=False)\n",
    "print(f\"\\nSaved cleaned data to {output_file}\")"
   ]
  },
  {
   "cell_type": "markdown",
   "id": "f1cf7a0a",
   "metadata": {},
   "source": [
    "# Step 5: Verify Results\n",
    "Check the cleaned data:"
   ]
  },
  {
   "cell_type": "code",
   "execution_count": 13,
   "id": "1941ca94",
   "metadata": {},
   "outputs": [
    {
     "name": "stdout",
     "output_type": "stream",
     "text": [
      "\n",
      "=== Final Data Summary ===\n",
      "Columns: 40, Rows: 10000\n",
      "\n",
      "Data Types:\n",
      "summons_number                                int64\n",
      "plate_id                                     object\n",
      "registration_state                           object\n",
      "plate_type                                   object\n",
      "issue_date                           datetime64[ns]\n",
      "violation_code                                int64\n",
      "vehicle_body_type                            object\n",
      "vehicle_make                                 object\n",
      "issuing_agency                               object\n",
      "street_code1                                  int64\n",
      "street_code2                                  int64\n",
      "street_code3                                  int64\n",
      "vehicle_expiration_date                       int64\n",
      "violation_location                          float64\n",
      "violation_precinct                            int64\n",
      "issuer_precinct                               int64\n",
      "issuer_code                                   int64\n",
      "issuer_command                               object\n",
      "issuer_squad                                  int64\n",
      "violation_time                               object\n",
      "violation_county                             object\n",
      "violation_in_front_of_or_opposite            object\n",
      "house_number                                 object\n",
      "street_name                                  object\n",
      "date_first_observed                           int64\n",
      "law_section                                   int64\n",
      "sub_division                                 object\n",
      "days_parking_in_effect                       object\n",
      "from_hours_in_effect                         object\n",
      "to_hours_in_effect                           object\n",
      "vehicle_color                                object\n",
      "unregistered_vehicle?                         int64\n",
      "vehicle_year                                  int64\n",
      "meter_number                                 object\n",
      "feet_from_curb                                int64\n",
      "issue_year                                    int32\n",
      "issue_month                                  object\n",
      "violation_datetime                   datetime64[ns]\n",
      "violation_hour                              float64\n",
      "violation_minute                            float64\n",
      "dtype: object\n",
      "\n",
      "Missing Values:\n",
      "summons_number                          0\n",
      "plate_id                                1\n",
      "registration_state                      0\n",
      "plate_type                              0\n",
      "issue_date                              0\n",
      "violation_code                          0\n",
      "vehicle_body_type                     263\n",
      "vehicle_make                          692\n",
      "issuing_agency                          0\n",
      "street_code1                            0\n",
      "street_code2                            0\n",
      "street_code3                            0\n",
      "vehicle_expiration_date                 0\n",
      "violation_location                    102\n",
      "violation_precinct                      0\n",
      "issuer_precinct                         0\n",
      "issuer_code                             0\n",
      "issuer_command                          0\n",
      "issuer_squad                            0\n",
      "violation_time                          0\n",
      "violation_county                      398\n",
      "violation_in_front_of_or_opposite    1187\n",
      "house_number                         1735\n",
      "street_name                            19\n",
      "date_first_observed                     0\n",
      "law_section                             0\n",
      "sub_division                           13\n",
      "days_parking_in_effect                  0\n",
      "from_hours_in_effect                    0\n",
      "to_hours_in_effect                      0\n",
      "vehicle_color                         212\n",
      "unregistered_vehicle?                   0\n",
      "vehicle_year                            0\n",
      "meter_number                            4\n",
      "feet_from_curb                          0\n",
      "issue_year                              0\n",
      "issue_month                             0\n",
      "violation_datetime                      6\n",
      "violation_hour                          5\n",
      "violation_minute                        5\n",
      "dtype: int64\n"
     ]
    }
   ],
   "source": [
    "print(\"\\n=== Final Data Summary ===\")\n",
    "print(f\"Columns: {df.shape[1]}, Rows: {df.shape[0]}\")\n",
    "print(\"\\nData Types:\")\n",
    "print(df.dtypes)\n",
    "print(\"\\nMissing Values:\")\n",
    "print(df.isna().sum())"
   ]
  },
  {
   "cell_type": "markdown",
   "id": "d9e1b447",
   "metadata": {},
   "source": [
    "## **🚨 Advanced Cleaning (Bonus Round)**\n",
    "\n",
    "1. **✅ Fix Outliers**\n",
    "\n",
    "---"
   ]
  },
  {
   "cell_type": "code",
   "execution_count": 14,
   "id": "b706b788",
   "metadata": {},
   "outputs": [],
   "source": [
    "# Remove impossible vehicle years\n",
    "current_year = pd.Timestamp.now().year\n",
    "df = df[(df['vehicle_year'] >= 1980) & (df['vehicle_year'] <= current_year)]"
   ]
  },
  {
   "cell_type": "markdown",
   "id": "d173fbca",
   "metadata": {},
   "source": [
    "2. **✅ Remove Duplicates**\n",
    "\n",
    "---"
   ]
  },
  {
   "cell_type": "code",
   "execution_count": 16,
   "id": "22233570",
   "metadata": {},
   "outputs": [],
   "source": [
    "df = df.drop_duplicates(subset=['summons_number'])"
   ]
  },
  {
   "cell_type": "markdown",
   "id": "c4399b47",
   "metadata": {},
   "source": [
    "3. **✅ Final Validation**\n",
    "\n",
    "---"
   ]
  },
  {
   "cell_type": "code",
   "execution_count": 17,
   "id": "cd9a15b3",
   "metadata": {},
   "outputs": [
    {
     "name": "stdout",
     "output_type": "stream",
     "text": [
      "=== Final Data Quality ===\n",
      "Rows: 6198, Columns: 40\n",
      "Missing Values:\n",
      " summons_number                         0\n",
      "plate_id                               1\n",
      "registration_state                     0\n",
      "plate_type                             0\n",
      "issue_date                             0\n",
      "violation_code                         0\n",
      "vehicle_body_type                    107\n",
      "vehicle_make                         111\n",
      "issuing_agency                         0\n",
      "street_code1                           0\n",
      "street_code2                           0\n",
      "street_code3                           0\n",
      "vehicle_expiration_date                0\n",
      "violation_location                    59\n",
      "violation_precinct                     0\n",
      "issuer_precinct                        0\n",
      "issuer_code                            0\n",
      "issuer_command                         0\n",
      "issuer_squad                           0\n",
      "violation_time                         0\n",
      "violation_county                     249\n",
      "violation_in_front_of_or_opposite    682\n",
      "house_number                         990\n",
      "street_name                           12\n",
      "date_first_observed                    0\n",
      "law_section                            0\n",
      "sub_division                           8\n",
      "days_parking_in_effect                 0\n",
      "from_hours_in_effect                   0\n",
      "to_hours_in_effect                     0\n",
      "vehicle_color                         63\n",
      "unregistered_vehicle?                  0\n",
      "vehicle_year                           0\n",
      "meter_number                           0\n",
      "feet_from_curb                         0\n",
      "issue_year                             0\n",
      "issue_month                            0\n",
      "violation_datetime                     1\n",
      "violation_hour                         1\n",
      "violation_minute                       1\n",
      "dtype: int64\n"
     ]
    }
   ],
   "source": [
    "print(\"=== Final Data Quality ===\")\n",
    "print(f\"Rows: {len(df)}, Columns: {df.shape[1]}\")\n",
    "print(\"Missing Values:\\n\", df.isna().sum())"
   ]
  },
  {
   "cell_type": "markdown",
   "id": "fcc270c3",
   "metadata": {},
   "source": [
    "4. **✅ Optional: Save Cleaned File**"
   ]
  },
  {
   "cell_type": "code",
   "execution_count": 18,
   "id": "6b692986",
   "metadata": {},
   "outputs": [],
   "source": [
    "df.to_csv(\"cleaned_2014_sample_final.csv\", index=False)"
   ]
  },
  {
   "cell_type": "markdown",
   "id": "6c0dfbd7",
   "metadata": {},
   "source": [
    "## **📊 Analysis Opportunities**\n",
    "With clean data, we can now explore:\n",
    "\n",
    "### **1. Temporal Patterns**\n",
    "- \"Which months have most violations?\"  \n",
    "- \"Are weekends different from weekdays?\"  \n",
    "\n",
    "### **2. Vehicle Trends**\n",
    "- \"Which car brands get ticketed most?\"  \n",
    "- \"Do older vehicles get more violations?\"  \n",
    "\n",
    "### **3. Geographic Hotspots**\n",
    "- \"Which precincts issue the most tickets?\"  \n",
    "- \"Where are 'failure to pay meter' violations concentrated?\"  \n",
    "\n",
    "### **4. Officer Activity**\n",
    "- \"Who are the top 10 most active issuers?\"  \n",
    "- \"Do certain officers specialize in specific violations?\"  \n",
    "\n",
    "## **🎯 Conclusion**\n",
    "This sample demonstrates my systematic approach to taming messy urban data:\n",
    "\n",
    "1. **Careful Sampling**: Loaded representative 10K-row subset  \n",
    "2. **Diagnose** data quality issues  \n",
    "3. **Clean** methodically with pandas  \n",
    "4. **Validate** at each step  \n",
    "5. **Enable** meaningful analysis  \n",
    "\n",
    "**Key Takeaway**: Clean data isn't just about removing errors - it's about revealing the true stories hidden in the numbers.  \n",
    "\n",
    "**Tools Used**: Python, Pandas, Jupyter Notebook  \n",
    "\n",
    "**Author**: Zahra Haider\n",
    "\n",
    "---  \n",
    "🚀 *Transforming raw data into actionable insights for smarter cities.*\n",
    "\n",
    "---"
   ]
  }
 ],
 "metadata": {
  "kernelspec": {
   "display_name": "Python 3",
   "language": "python",
   "name": "python3"
  },
  "language_info": {
   "codemirror_mode": {
    "name": "ipython",
    "version": 3
   },
   "file_extension": ".py",
   "mimetype": "text/x-python",
   "name": "python",
   "nbconvert_exporter": "python",
   "pygments_lexer": "ipython3",
   "version": "3.12.4"
  }
 },
 "nbformat": 4,
 "nbformat_minor": 5
}
